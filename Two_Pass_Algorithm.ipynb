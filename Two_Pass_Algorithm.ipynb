{
  "nbformat": 4,
  "nbformat_minor": 0,
  "metadata": {
    "kernelspec": {
      "display_name": "Python 3",
      "language": "python",
      "name": "python3"
    },
    "language_info": {
      "codemirror_mode": {
        "name": "ipython",
        "version": 3
      },
      "file_extension": ".py",
      "mimetype": "text/x-python",
      "name": "python",
      "nbconvert_exporter": "python",
      "pygments_lexer": "ipython3",
      "version": "3.7.3"
    },
    "colab": {
      "name": "Two-Pass Algorithm",
      "provenance": [],
      "include_colab_link": true
    }
  },
  "cells": [
    {
      "cell_type": "markdown",
      "metadata": {
        "id": "view-in-github",
        "colab_type": "text"
      },
      "source": [
        "<a href=\"https://colab.research.google.com/github/koushik1207/Algorithms/blob/main/Two_Pass_Algorithm.ipynb\" target=\"_parent\"><img src=\"https://colab.research.google.com/assets/colab-badge.svg\" alt=\"Open In Colab\"/></a>"
      ]
    },
    {
      "cell_type": "markdown",
      "metadata": {
        "id": "rsSBfKzSGXqM"
      },
      "source": [
        "## Two-Pass Algorithm\r\n",
        "\r\n",
        "\r\n",
        "\r\n",
        "\r\n"
      ]
    },
    {
      "cell_type": "code",
      "metadata": {
        "id": "uGfWMshmGXqc",
        "outputId": "69db069f-2205-42c0-af93-bc8f7660081f"
      },
      "source": [
        "R = [[(5,4,8),(1,5,7)],[(8,3,2),(3,6,9)]]\n",
        "S = [[(2,4,1),(3,9,4)],[(8,2,7),(9,8,5)]]\n",
        "index_R = {2:1,7:0,8:0,9:1}\n",
        "print(index_R)"
      ],
      "execution_count": null,
      "outputs": [
        {
          "output_type": "stream",
          "text": [
            "{2: 1, 7: 0, 8: 0, 9: 1}\n"
          ],
          "name": "stdout"
        }
      ]
    },
    {
      "cell_type": "code",
      "metadata": {
        "id": "tX8_dTqGGXqg",
        "outputId": "384ec98f-d69c-4812-eae7-59d167f97ce9"
      },
      "source": [
        "o_buffer = []\n",
        "buffer_length = 2\n",
        "output = []\n",
        "memory = []\n",
        "memory.append(list(index_R.keys()))                                             # appending index of R in memory\n",
        "#print(memory[0])\n",
        "for i in S:                   \n",
        "    memory.append(i)                                                            # putting a block of S in memory\n",
        "    #print(memory)\n",
        "    for j in memory[1]:\n",
        "        for k in range(len(j)):\n",
        "            if k == 0:\n",
        "                if j[k] in memory[0]:\n",
        "                    t = index_R.get(j[k])\n",
        "                    memory.append(R[t])                                         # getting the required block from R and appending it in memory\n",
        "                    for ind in memory[2]:\n",
        "                        for item in range(len(ind)):\n",
        "                            if item == len(ind)-1:\n",
        "                                if ind[item] == j[k]:                           # checking if y value in R & S matches\n",
        "                                    if (len(o_buffer) >= buffer_length):        # Checking if output buffer is full\n",
        "                                        output.append(o_buffer[:])              # Output buffer appended to the Output Disk\n",
        "                                        o_buffer.clear()                        # Output buffer cleared\n",
        "                                        print(\"Output buffer cleared.\")\n",
        "                                        o_buffer.append(ind+j[1:])              # Adding joined item to output buffer\n",
        "                                        print(\"Output buffer = \",o_buffer)\n",
        "                                        print(\"Output = \",output)\n",
        "                                    else:\n",
        "                                        o_buffer.append(ind+j[1:])              # Adding joined item to output buffer\n",
        "                                        print(\"Output buffer = \",o_buffer)\n",
        "                                        print(\"Output = \",output)\n",
        "                    memory=memory[:-1]\n",
        "    memory=memory[:-1]\n",
        "if (len(o_buffer) != 0):                                                        # If output buffer is not empty after running through the memory, append the values from output buffer to the ouput disk.     \n",
        "    output.append(o_buffer[:])\n",
        "    o_buffer.clear()\n",
        "    print(\"Output buffer cleared.\")\n",
        "    print(\"Final Output = \",output)                                             # Final Output displayed.\n",
        "else:\n",
        "    print(\"Final Output = \",output)"
      ],
      "execution_count": null,
      "outputs": [
        {
          "output_type": "stream",
          "text": [
            "Output buffer =  [(8, 3, 2, 4, 1)]\n",
            "Output =  []\n",
            "Output buffer =  [(8, 3, 2, 4, 1), (5, 4, 8, 2, 7)]\n",
            "Output =  []\n",
            "Output buffer cleared.\n",
            "Output buffer =  [(3, 6, 9, 8, 5)]\n",
            "Output =  [[(8, 3, 2, 4, 1), (5, 4, 8, 2, 7)]]\n",
            "Output buffer cleared.\n",
            "Final Output =  [[(8, 3, 2, 4, 1), (5, 4, 8, 2, 7)], [(3, 6, 9, 8, 5)]]\n"
          ],
          "name": "stdout"
        }
      ]
    }
  ]
}