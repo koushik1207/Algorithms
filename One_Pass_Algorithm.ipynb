{
  "nbformat": 4,
  "nbformat_minor": 0,
  "metadata": {
    "kernelspec": {
      "display_name": "Python 3",
      "language": "python",
      "name": "python3"
    },
    "language_info": {
      "codemirror_mode": {
        "name": "ipython",
        "version": 3
      },
      "file_extension": ".py",
      "mimetype": "text/x-python",
      "name": "python",
      "nbconvert_exporter": "python",
      "pygments_lexer": "ipython3",
      "version": "3.7.3"
    },
    "colab": {
      "name": "One Pass Algorithm",
      "provenance": [],
      "include_colab_link": true
    }
  },
  "cells": [
    {
      "cell_type": "markdown",
      "metadata": {
        "id": "view-in-github",
        "colab_type": "text"
      },
      "source": [
        "<a href=\"https://colab.research.google.com/github/koushik1207/Algorithms/blob/main/One_Pass_Algorithm.ipynb\" target=\"_parent\"><img src=\"https://colab.research.google.com/assets/colab-badge.svg\" alt=\"Open In Colab\"/></a>"
      ]
    },
    {
      "cell_type": "markdown",
      "metadata": {
        "id": "PAlaGuWeFpvl"
      },
      "source": [
        "# One Pass Algorithm\r\n",
        "\r\n"
      ]
    },
    {
      "cell_type": "code",
      "metadata": {
        "id": "GMIq-_wiFpv3",
        "outputId": "1410ec96-8257-4b20-8495-b5584d75ffb8"
      },
      "source": [
        "R = [[(1,0),(1,9)],[(0,2),(1,0)],[(0,7),(1,0)],[(3,4),(0,2)]]\n",
        "S = [[(1,0),(0,7)],[(0,2),(1,9)],[(1,0),(9,9)]]         \n",
        "memory = {}\n",
        "\n",
        "for x in S:    #block\n",
        "    for y in x:     #tuple\n",
        "        y = tuple(y)\n",
        "        if y not in memory:\n",
        "            memory[y] = 1\n",
        "        else:\n",
        "            memory[y] += 1                # S being placed in the memory\n",
        "print(\"Memory\",memory)\n",
        "buffer_length = 2\n",
        "o_buffer = []\n",
        "output = []\n",
        "for i in R:                               # R block accessed block wise\n",
        "    for item in i:                        # From the block accessing the tuples\n",
        "        item = tuple(item)\n",
        "        if item in memory.keys():\n",
        "            if memory[item]>0:            \n",
        "                if (len(o_buffer) >= buffer_length):        # Checking if output buffer is full\n",
        "                    output.append(o_buffer[:])              # Output buffer appended to the Output Disk\n",
        "                    o_buffer.clear()                        # Output buffer cleared\n",
        "                    print(\"Output buffer cleared.\")\n",
        "                    o_buffer.append(item)\n",
        "                    memory[item] -= 1                       # Adding item to output buffer and reducing the count from memory\n",
        "                    print(\"Output buffer = \",o_buffer)\n",
        "                    print(\"Output = \",output)\n",
        "                else:\n",
        "                    o_buffer.append(item)\n",
        "                    memory[item] -= 1                       # Adding item to output buffer and reducing the count from memory\n",
        "                    print(\"Output buffer = \",o_buffer)\n",
        "                    print(\"Output = \",output)\n",
        "if (len(o_buffer) != 0):                  # If output buffer is not empty after running through the memory, append the values from output buffer to the ouput disk.     \n",
        "    output.append(o_buffer[:])\n",
        "    o_buffer.clear()\n",
        "    print(\"Output buffer cleared.\")\n",
        "    print(\"Final Output = \",output)       # Final Output displayed.\n",
        "else:\n",
        "    print(\"Final Output = \",output)"
      ],
      "execution_count": null,
      "outputs": [
        {
          "output_type": "stream",
          "text": [
            "Memory {(1, 0): 2, (0, 7): 1, (0, 2): 1, (1, 9): 1, (9, 9): 1}\n",
            "Output buffer =  [(1, 0)]\n",
            "Output =  []\n",
            "Output buffer =  [(1, 0), (1, 9)]\n",
            "Output =  []\n",
            "Output buffer cleared.\n",
            "Output buffer =  [(0, 2)]\n",
            "Output =  [[(1, 0), (1, 9)]]\n",
            "Output buffer =  [(0, 2), (1, 0)]\n",
            "Output =  [[(1, 0), (1, 9)]]\n",
            "Output buffer cleared.\n",
            "Output buffer =  [(0, 7)]\n",
            "Output =  [[(1, 0), (1, 9)], [(0, 2), (1, 0)]]\n",
            "Output buffer cleared.\n",
            "Final Output =  [[(1, 0), (1, 9)], [(0, 2), (1, 0)], [(0, 7)]]\n"
          ],
          "name": "stdout"
        }
      ]
    }
  ]
}